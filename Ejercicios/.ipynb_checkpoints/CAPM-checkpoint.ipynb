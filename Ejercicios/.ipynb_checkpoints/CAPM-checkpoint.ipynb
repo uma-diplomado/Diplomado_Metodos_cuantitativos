{
 "cells": [
  {
   "cell_type": "code",
   "execution_count": 1,
   "metadata": {
    "colab": {
     "base_uri": "https://localhost:8080/",
     "height": 185
    },
    "colab_type": "code",
    "executionInfo": {
     "elapsed": 15220,
     "status": "ok",
     "timestamp": 1568490954786,
     "user": {
      "displayName": "CLAUDIO CUEVAS PAZOS",
      "photoUrl": "https://lh3.googleusercontent.com/a-/AAuE7mDOp4_B8SevbJb36SPP7RLq-MZp_TsJ6U6FfNsV3w=s64",
      "userId": "10789911121423299068"
     },
     "user_tz": 300
    },
    "id": "SbN6BK_c0srD",
    "outputId": "d194d2a8-87c3-46ed-fc96-76a1984c33cf"
   },
   "outputs": [
    {
     "name": "stdout",
     "output_type": "stream",
     "text": [
      "Collecting scipy==1.2\n",
      "\u001b[?25l  Downloading https://files.pythonhosted.org/packages/67/e6/6d4edaceee6a110ecf6f318482f5229792f143e468b34a631f5a0899f56d/scipy-1.2.0-cp36-cp36m-manylinux1_x86_64.whl (26.6MB)\n",
      "\u001b[K     |████████████████████████████████| 26.6MB 1.5MB/s \n",
      "\u001b[?25hRequirement already satisfied, skipping upgrade: numpy>=1.8.2 in /usr/local/lib/python3.6/dist-packages (from scipy==1.2) (1.16.5)\n",
      "\u001b[31mERROR: albumentations 0.1.12 has requirement imgaug<0.2.7,>=0.2.5, but you'll have imgaug 0.2.9 which is incompatible.\u001b[0m\n",
      "Installing collected packages: scipy\n",
      "  Found existing installation: scipy 1.3.1\n",
      "    Uninstalling scipy-1.3.1:\n",
      "      Successfully uninstalled scipy-1.3.1\n",
      "Successfully installed scipy-1.2.0\n"
     ]
    }
   ],
   "source": [
    "! python3.6 -m pip install scipy==1.2 --upgrade"
   ]
  },
  {
   "cell_type": "code",
   "execution_count": 0,
   "metadata": {
    "colab": {},
    "colab_type": "code",
    "id": "UOasKjJB0nDR"
   },
   "outputs": [],
   "source": [
    "import pandas as pd\n",
    "import numpy as np\n",
    "import pandas_datareader as web\n",
    "from matplotlib import pyplot as plt\n",
    "from statsmodels import regression\n",
    "import statsmodels.api as sm"
   ]
  },
  {
   "cell_type": "code",
   "execution_count": 0,
   "metadata": {
    "colab": {},
    "colab_type": "code",
    "id": "VhiEVvyP0IFc"
   },
   "outputs": [],
   "source": [
    "Asset_name = 'AAPL'\n",
    "Benchmark_name = 'SPY'\n",
    "Rf= 'BIL'\n",
    "\n",
    "asset=web.DataReader(name=Asset_name,data_source='yahoo',start='1/01/2000',end='17/06/19')\n",
    "benchmark=web.DataReader(name=Benchmark_name,data_source='yahoo',start='1/01/2000',end='17/06/19')\n",
    "rate=web.DataReader(name=Rf,data_source='yahoo',start='1/01/2000',end='17/06/19')"
   ]
  }
 ],
 "metadata": {
  "colab": {
   "name": "CAPM.ipynb",
   "provenance": [],
   "version": "0.3.2"
  },
  "kernelspec": {
   "display_name": "Python 3",
   "language": "python",
   "name": "python3"
  },
  "language_info": {
   "codemirror_mode": {
    "name": "ipython",
    "version": 3
   },
   "file_extension": ".py",
   "mimetype": "text/x-python",
   "name": "python",
   "nbconvert_exporter": "python",
   "pygments_lexer": "ipython3",
   "version": "3.8.3"
  }
 },
 "nbformat": 4,
 "nbformat_minor": 1
}
