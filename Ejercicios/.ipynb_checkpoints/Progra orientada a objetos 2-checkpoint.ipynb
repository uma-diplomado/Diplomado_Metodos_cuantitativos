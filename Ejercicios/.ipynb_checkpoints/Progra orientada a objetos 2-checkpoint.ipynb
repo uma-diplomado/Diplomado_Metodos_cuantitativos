{
 "cells": [
  {
   "cell_type": "code",
   "execution_count": 1,
   "metadata": {},
   "outputs": [],
   "source": [
    "import math\n",
    "import scipy.stats as scs\n",
    "\n",
    "# Class Definitions\n",
    "\n",
    "\n",
    "class Option(object):\n",
    "    ''' Classe correspondiente a la valoración de un \n",
    "    call europeo con la fórmula de Black & Scholes.\n",
    "    Attributes\n",
    "    ==========\n",
    "    S0: float\n",
    "        initial index level\n",
    "    K: float\n",
    "        strike\n",
    "    T: float\n",
    "        vencimiento (años)\n",
    "    r: float\n",
    "        tasa de interés anual compuesta contínuamente\n",
    "    vola: float\n",
    "        volatilidad\n",
    "    '''\n",
    "\n",
    "    def __init__(self, S0, K, T, r, vola):\n",
    "       \n",
    "        self.S0 = float(S0)\n",
    "        self.K = K\n",
    "        self.T = T\n",
    "        self.r = r\n",
    "        self.vola = vola\n",
    "\n",
    "    def d1(self):\n",
    "        \n",
    "        d1 = ((math.log(self.S0 / self.K) +\n",
    "               (self.r + 0.5 * self.vola ** 2) * self.T) /\n",
    "              (self.vola * math.sqrt(self.T)))\n",
    "        return d1\n",
    "\n",
    "    def value(self):\n",
    "        \n",
    "        d1 = self.d1()\n",
    "        d2 = d1 - self.vola * math.sqrt(self.T)\n",
    "        call_value = (self.S0 * scs.norm.cdf(d1, 0.0, 1.0) -\n",
    "                      self.K * math.exp(-self.r * self.T) *\n",
    "                      scs.norm.cdf(d2, 0.0, 1.0))\n",
    "        return call_value\n",
    "\n",
    "\n",
    "class OptionVega(Option):\n",
    "\n",
    "    def vega(self):\n",
    "    \n",
    "        d1 = self.d1()\n",
    "        vega = self.S0 * scs.norm.cdf(d1, 0.0, 1.0) * math.sqrt(self.T)\n",
    "        return vega"
   ]
  },
  {
   "cell_type": "code",
   "execution_count": 7,
   "metadata": {},
   "outputs": [],
   "source": [
    "o1 = Option(105., 100., 1.0, 0.05, 0.25)\n",
    "\n",
    "o2 = OptionVega(105., 100., 1.0, 0.05, 0.25)"
   ]
  },
  {
   "cell_type": "code",
   "execution_count": 8,
   "metadata": {},
   "outputs": [
    {
     "data": {
      "text/plain": [
       "15.65471972682358"
      ]
     },
     "execution_count": 8,
     "metadata": {},
     "output_type": "execute_result"
    }
   ],
   "source": [
    "o2.value()"
   ]
  },
  {
   "cell_type": "code",
   "execution_count": 9,
   "metadata": {},
   "outputs": [
    {
     "data": {
      "text/plain": [
       "15.65471972682358"
      ]
     },
     "execution_count": 9,
     "metadata": {},
     "output_type": "execute_result"
    }
   ],
   "source": [
    "o1.value()"
   ]
  },
  {
   "cell_type": "code",
   "execution_count": 12,
   "metadata": {},
   "outputs": [],
   "source": [
    "def printOptionValue(option):\n",
    "    print(option.value())\n"
   ]
  },
  {
   "cell_type": "code",
   "execution_count": 13,
   "metadata": {},
   "outputs": [
    {
     "name": "stdout",
     "output_type": "stream",
     "text": [
      "15.65471972682358\n"
     ]
    }
   ],
   "source": [
    "printOptionValue(o1)"
   ]
  },
  {
   "cell_type": "code",
   "execution_count": 14,
   "metadata": {},
   "outputs": [
    {
     "name": "stdout",
     "output_type": "stream",
     "text": [
      "15.65471972682358\n"
     ]
    }
   ],
   "source": [
    "printOptionValue(o2)"
   ]
  }
 ],
 "metadata": {
  "kernelspec": {
   "display_name": "Python 3",
   "language": "python",
   "name": "python3"
  },
  "language_info": {
   "codemirror_mode": {
    "name": "ipython",
    "version": 3
   },
   "file_extension": ".py",
   "mimetype": "text/x-python",
   "name": "python",
   "nbconvert_exporter": "python",
   "pygments_lexer": "ipython3",
   "version": "3.8.3"
  }
 },
 "nbformat": 4,
 "nbformat_minor": 2
}
