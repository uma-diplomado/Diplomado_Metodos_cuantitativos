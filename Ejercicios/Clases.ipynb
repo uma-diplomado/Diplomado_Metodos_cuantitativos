{
 "cells": [
  {
   "cell_type": "markdown",
   "metadata": {},
   "source": [
    "# Herencia"
   ]
  },
  {
   "cell_type": "code",
   "execution_count": 2,
   "metadata": {},
   "outputs": [],
   "source": [
    "class Perro:\n",
    "    pass"
   ]
  },
  {
   "cell_type": "code",
   "execution_count": 39,
   "metadata": {},
   "outputs": [],
   "source": [
    "class Animal:\n",
    "    def __init__(self,nombre_, edad_,sonido_):\n",
    "        self.nombre = nombre_\n",
    "        self.edad = edad_\n",
    "        self.sonido = sonido_\n",
    "        \n",
    "    def dime_tu_nombre(self):\n",
    "        return self.nombre\n",
    "\n",
    "class Perro(Animal):\n",
    "    pass\n",
    "    \n",
    "class Gato(Animal):\n",
    "    def __init__(self,nombre_,edad_,sonido_,color_):\n",
    "        self.nombre = nombre_\n",
    "        self.edad = edad_\n",
    "        self.sonido = sonido_\n",
    "        self.color = color_\n",
    "    "
   ]
  },
  {
   "cell_type": "code",
   "execution_count": 41,
   "metadata": {},
   "outputs": [
    {
     "data": {
      "text/plain": [
       "'pelusa'"
      ]
     },
     "execution_count": 41,
     "metadata": {},
     "output_type": "execute_result"
    }
   ],
   "source": [
    "pelusa = Gato(\"pelusa\",4,\"miau\",\"gris\")\n",
    "pelusa.dime_tu_nombre()"
   ]
  },
  {
   "cell_type": "code",
   "execution_count": 18,
   "metadata": {},
   "outputs": [],
   "source": [
    "firulais = Perro(\"Firulais\",5,\"guau\")"
   ]
  },
  {
   "cell_type": "code",
   "execution_count": 19,
   "metadata": {},
   "outputs": [
    {
     "data": {
      "text/plain": [
       "'guau'"
      ]
     },
     "execution_count": 19,
     "metadata": {},
     "output_type": "execute_result"
    }
   ],
   "source": [
    "firulais.sonido"
   ]
  },
  {
   "cell_type": "code",
   "execution_count": 13,
   "metadata": {},
   "outputs": [],
   "source": [
    "\n",
    "\n",
    "class Gato:\n",
    "    def __init__(self,nombre_,edad_,sonido_,color_):\n",
    "        self.nombre = nombre_\n",
    "        self.edad = edad_\n",
    "        self.sonido = sonido_\n",
    "        self.color = color_\n",
    "    "
   ]
  },
  {
   "cell_type": "code",
   "execution_count": 14,
   "metadata": {},
   "outputs": [],
   "source": [
    "pelusa = Gato(\"pelusa\",4,\"miau\",\"gris\")"
   ]
  },
  {
   "cell_type": "code",
   "execution_count": 42,
   "metadata": {},
   "outputs": [
    {
     "data": {
      "text/plain": [
       "'gris'"
      ]
     },
     "execution_count": 42,
     "metadata": {},
     "output_type": "execute_result"
    }
   ],
   "source": [
    "pelusa.color"
   ]
  },
  {
   "cell_type": "code",
   "execution_count": null,
   "metadata": {},
   "outputs": [],
   "source": []
  },
  {
   "cell_type": "code",
   "execution_count": null,
   "metadata": {},
   "outputs": [],
   "source": []
  },
  {
   "cell_type": "code",
   "execution_count": null,
   "metadata": {},
   "outputs": [],
   "source": []
  },
  {
   "cell_type": "code",
   "execution_count": 60,
   "metadata": {},
   "outputs": [],
   "source": [
    "import math"
   ]
  },
  {
   "cell_type": "code",
   "execution_count": 61,
   "metadata": {},
   "outputs": [],
   "source": [
    "class Disc_Curve:\n",
    "    def __init__(self, spot_date_, zeros_, mat_):\n",
    "        self.spot_date = spot_date_\n",
    "        self.zeros = zeros_\n",
    "        self.mat = mat_\n",
    "        self.tenors = [(i-spot_date_)/365 for i in mat_]\n",
    "        self.rates_simple_act_365 = [((1/D)-1)/tau for (D,tau) in zip(zeros_,self.tenors)]\n",
    "        self.rates_cont_act_365 = [(-math.log(D))/tau for (D,tau) in zip(zeros_,self.tenors)]\n"
   ]
  },
  {
   "cell_type": "code",
   "execution_count": 62,
   "metadata": {},
   "outputs": [],
   "source": [
    "spot_date = 0\n",
    "zeros = [0.999,0.995,0.98,0.92]\n",
    "mat = [1,2,3,4]\n",
    "curva = Disc_Curve(spot_date, zeros, mat)"
   ]
  },
  {
   "cell_type": "code",
   "execution_count": 63,
   "metadata": {},
   "outputs": [
    {
     "data": {
      "text/plain": [
       "[0.36518262175799004,\n",
       " 0.9147888827968322,\n",
       " 2.4579960569648684,\n",
       " 7.608571815688405]"
      ]
     },
     "execution_count": 63,
     "metadata": {},
     "output_type": "execute_result"
    }
   ],
   "source": [
    "curva.rates_cont_act_365"
   ]
  },
  {
   "cell_type": "code",
   "execution_count": 64,
   "metadata": {},
   "outputs": [
    {
     "data": {
      "text/plain": [
       "[0.36536536536539765,\n",
       " 0.9170854271356621,\n",
       " 2.4829931972789145,\n",
       " 7.934782608695647]"
      ]
     },
     "execution_count": 64,
     "metadata": {},
     "output_type": "execute_result"
    }
   ],
   "source": [
    "curva.rates_simple_act_365"
   ]
  }
 ],
 "metadata": {
  "kernelspec": {
   "display_name": "Python 3",
   "language": "python",
   "name": "python3"
  },
  "language_info": {
   "codemirror_mode": {
    "name": "ipython",
    "version": 3
   },
   "file_extension": ".py",
   "mimetype": "text/x-python",
   "name": "python",
   "nbconvert_exporter": "python",
   "pygments_lexer": "ipython3",
   "version": "3.8.3"
  }
 },
 "nbformat": 4,
 "nbformat_minor": 4
}
